{
 "cells": [
  {
   "cell_type": "code",
   "execution_count": 1,
   "id": "24318486-1ab8-49c0-b221-a8f0935d300d",
   "metadata": {},
   "outputs": [],
   "source": [
    "import numpy as np\n",
    "import pandas as pd\n",
    "import matplotlib.pyplot as plt\n",
    "import matplotlib.colors as mcolors\n",
    "from IPython.display import display, Math\n",
    "from scipy.optimize import curve_fit\n",
    "from scipy.constants import epsilon_0\n",
    "from sklearn.metrics import r2_score\n",
    "import seaborn\n",
    "seaborn.set()\n",
    "\n",
    "def linear(x, a, b):\n",
    "    return a*x + b"
   ]
  },
  {
   "cell_type": "markdown",
   "id": "ef41bf8f-5e35-4cca-8128-41b912d048be",
   "metadata": {
    "tags": []
   },
   "source": [
    "# Importando os dados"
   ]
  },
  {
   "cell_type": "code",
   "execution_count": 2,
   "id": "95553bc8-abd7-4e60-b447-5ef8afabaa98",
   "metadata": {},
   "outputs": [
    {
     "data": {
      "text/html": [
       "<div>\n",
       "<style scoped>\n",
       "    .dataframe tbody tr th:only-of-type {\n",
       "        vertical-align: middle;\n",
       "    }\n",
       "\n",
       "    .dataframe tbody tr th {\n",
       "        vertical-align: top;\n",
       "    }\n",
       "\n",
       "    .dataframe thead th {\n",
       "        text-align: right;\n",
       "    }\n",
       "</style>\n",
       "<table border=\"1\" class=\"dataframe\">\n",
       "  <thead>\n",
       "    <tr style=\"text-align: right;\">\n",
       "      <th></th>\n",
       "      <th>E</th>\n",
       "      <th>ddp</th>\n",
       "      <th>z</th>\n",
       "      <th>v</th>\n",
       "      <th>tipo</th>\n",
       "    </tr>\n",
       "  </thead>\n",
       "  <tbody>\n",
       "    <tr>\n",
       "      <th>0</th>\n",
       "      <td>1.659</td>\n",
       "      <td>10.1</td>\n",
       "      <td>0.1</td>\n",
       "      <td>ddp</td>\n",
       "      <td>disco</td>\n",
       "    </tr>\n",
       "    <tr>\n",
       "      <th>1</th>\n",
       "      <td>3.010</td>\n",
       "      <td>20.1</td>\n",
       "      <td>0.1</td>\n",
       "      <td>ddp</td>\n",
       "      <td>disco</td>\n",
       "    </tr>\n",
       "    <tr>\n",
       "      <th>2</th>\n",
       "      <td>4.600</td>\n",
       "      <td>30.0</td>\n",
       "      <td>0.1</td>\n",
       "      <td>ddp</td>\n",
       "      <td>disco</td>\n",
       "    </tr>\n",
       "    <tr>\n",
       "      <th>3</th>\n",
       "      <td>6.170</td>\n",
       "      <td>40.0</td>\n",
       "      <td>0.1</td>\n",
       "      <td>ddp</td>\n",
       "      <td>disco</td>\n",
       "    </tr>\n",
       "    <tr>\n",
       "      <th>4</th>\n",
       "      <td>7.710</td>\n",
       "      <td>50.1</td>\n",
       "      <td>0.1</td>\n",
       "      <td>ddp</td>\n",
       "      <td>disco</td>\n",
       "    </tr>\n",
       "    <tr>\n",
       "      <th>...</th>\n",
       "      <td>...</td>\n",
       "      <td>...</td>\n",
       "      <td>...</td>\n",
       "      <td>...</td>\n",
       "      <td>...</td>\n",
       "    </tr>\n",
       "    <tr>\n",
       "      <th>168</th>\n",
       "      <td>4.440</td>\n",
       "      <td>500.0</td>\n",
       "      <td>12.0</td>\n",
       "      <td>z</td>\n",
       "      <td>esfera</td>\n",
       "    </tr>\n",
       "    <tr>\n",
       "      <th>169</th>\n",
       "      <td>4.230</td>\n",
       "      <td>500.0</td>\n",
       "      <td>12.5</td>\n",
       "      <td>z</td>\n",
       "      <td>esfera</td>\n",
       "    </tr>\n",
       "    <tr>\n",
       "      <th>170</th>\n",
       "      <td>4.060</td>\n",
       "      <td>500.0</td>\n",
       "      <td>13.0</td>\n",
       "      <td>z</td>\n",
       "      <td>esfera</td>\n",
       "    </tr>\n",
       "    <tr>\n",
       "      <th>171</th>\n",
       "      <td>3.900</td>\n",
       "      <td>500.0</td>\n",
       "      <td>13.5</td>\n",
       "      <td>z</td>\n",
       "      <td>esfera</td>\n",
       "    </tr>\n",
       "    <tr>\n",
       "      <th>172</th>\n",
       "      <td>3.740</td>\n",
       "      <td>500.0</td>\n",
       "      <td>14.0</td>\n",
       "      <td>z</td>\n",
       "      <td>esfera</td>\n",
       "    </tr>\n",
       "  </tbody>\n",
       "</table>\n",
       "<p>173 rows × 5 columns</p>\n",
       "</div>"
      ],
      "text/plain": [
       "         E    ddp     z    v    tipo\n",
       "0    1.659   10.1   0.1  ddp   disco\n",
       "1    3.010   20.1   0.1  ddp   disco\n",
       "2    4.600   30.0   0.1  ddp   disco\n",
       "3    6.170   40.0   0.1  ddp   disco\n",
       "4    7.710   50.1   0.1  ddp   disco\n",
       "..     ...    ...   ...  ...     ...\n",
       "168  4.440  500.0  12.0    z  esfera\n",
       "169  4.230  500.0  12.5    z  esfera\n",
       "170  4.060  500.0  13.0    z  esfera\n",
       "171  3.900  500.0  13.5    z  esfera\n",
       "172  3.740  500.0  14.0    z  esfera\n",
       "\n",
       "[173 rows x 5 columns]"
      ]
     },
     "execution_count": 2,
     "metadata": {},
     "output_type": "execute_result"
    }
   ],
   "source": [
    "dados = pd.read_excel('campo-elétrico.xlsx')\n",
    "dados"
   ]
  },
  {
   "cell_type": "code",
   "execution_count": 3,
   "id": "d30395c8-df8f-47e3-acbe-78c45dfcdcd6",
   "metadata": {},
   "outputs": [
    {
     "data": {
      "image/png": "[encoded data removed]",
      "text/plain": [
       "<Figure size 1080x360 with 2 Axes>"
      ]
     },
     "metadata": {},
     "output_type": "display_data"
    }
   ],
   "source": [
    "fig, (ax1, ax2) = plt.subplots(1, 2, figsize=(15, 5))\n",
    "axis = {'ddp':ax1, 'z':ax2}\n",
    "\n",
    "for (tipo, v), group in dados.groupby(['tipo', 'v']):\n",
    "    axis[v].scatter(group[v], group.E, label=tipo)\n",
    "    \n",
    "ax1.set_xlabel(r'$\\Phi$ (V)')\n",
    "ax1.set_ylabel(r'$E$ (V/m)')\n",
    "ax1.legend()\n",
    "\n",
    "ax2.set_xlabel(r'$z$ (cm)')\n",
    "ax2.set_ylabel(r'$E$ (V/m)')\n",
    "ax2.legend()\n",
    "\n",
    "plt.show()"
   ]
  },
  {
   "cell_type": "markdown",
   "id": "e1b9cf76-147f-42ee-a1e7-4531a92d2fce",
   "metadata": {},
   "source": [
    "# Análise da intensidade do campo em função da diferença de potencial ($E \\times \\Phi$)\n",
    "\n",
    "Foram coletados dados sobre a intensidade do campo elétrico em função da diferença de potencial aplicada a condutores de diferentes geometrias. Primeiramente, o sensor foi posicionado de forma concêntrica a um disco conectado à uma fonte de tensão variável. Após isso, o sensor foi posicionado, também de forma concêntrica, entre duas placas condutoras com apenas uma delas (a que se opunha à interface do sensor) conectada à fonte de tensão. \n",
    "\n",
    "Em ambos os casos, o sensor foi posicionado de forma que efeitos de borda possam ser desprezados, fazendo com que a intensidade do campo $E$ possa ser descrita pela lei de gauss na forma\n",
    "$$E = \\dfrac{\\sigma}{2\\epsilon_0}$$\n",
    "onde $\\sigma$ é a densidade superficial de carga nos objetos."
   ]
  },
  {
   "cell_type": "code",
   "execution_count": 4,
   "id": "7cf78ce0-67b5-4a10-bbfb-2d6e29ed82d6",
   "metadata": {},
   "outputs": [],
   "source": [
    "ddp_dados = dados.loc[dados.v == 'ddp'].groupby('tipo')"
   ]
  },
  {
   "cell_type": "markdown",
   "id": "2c1d027f-e672-407d-be14-cc1308ab35f8",
   "metadata": {},
   "source": [
    "## Verificação da mudança de escala do sensor\n",
    "\n",
    "A escala do sensor utilizado nos experimentos precisou ser alterada em alguns pontos, fazendo com que a precisão dos dados se altere e gere um padrão de \"degraus\". Dessa forma, estes pontos podem ser detectados e as medidas podem ser divididas e analidadas separadamente."
   ]
  },
  {
   "cell_type": "code",
   "execution_count": 5,
   "id": "2a56da4d-cd6e-46c6-a430-fc23b27c0665",
   "metadata": {},
   "outputs": [
    {
     "data": {
      "image/png": "[encoded data removed]",
      "text/plain": [
       "<Figure size 720x288 with 1 Axes>"
      ]
     },
     "metadata": {},
     "output_type": "display_data"
    }
   ],
   "source": [
    "plt.figure(figsize=(10, 4))\n",
    "\n",
    "split_slices = {}\n",
    "for tipo, group in ddp_dados:\n",
    "    dydx = group.E.diff()/group.ddp.diff()\n",
    "    loc = (dydx - dydx.mean()).abs() > 0.05\n",
    "    \n",
    "    t = np.arange(len(group))\n",
    "    split_slices[tipo] = [0] + list(t[loc]) + [t[-1]]\n",
    "    \n",
    "    x = group.ddp\n",
    "    plt.plot(x, dydx, 'o-')\n",
    "    plt.plot(x.loc[loc], dydx.loc[loc], 'o', c='red')\n",
    "    \n",
    "plt.ylabel(r'$\\dfrac{d\\,E}{d\\,\\Phi}$', rotation=0, labelpad=20)\n",
    "plt.xlabel(r'$\\Phi$')\n",
    "plt.show()"
   ]
  },
  {
   "cell_type": "code",
   "execution_count": 6,
   "id": "5d814469-bc0b-42dc-aad9-04bff6ee0a51",
   "metadata": {},
   "outputs": [
    {
     "data": {
      "text/plain": [
       "{'disco': [0, 17, 18, 59], 'placas paralelas': [0, 16, 17, 30, 59]}"
      ]
     },
     "execution_count": 6,
     "metadata": {},
     "output_type": "execute_result"
    }
   ],
   "source": [
    "split_slices"
   ]
  },
  {
   "cell_type": "markdown",
   "id": "c77267fb-048f-4e5b-9c0d-ba34af3362a5",
   "metadata": {
    "tags": []
   },
   "source": [
    "## Ajustes de curva"
   ]
  },
  {
   "cell_type": "code",
   "execution_count": 7,
   "id": "163cde71-1f61-4512-b5a5-a51a57441996",
   "metadata": {},
   "outputs": [
    {
     "data": {
      "image/png": "[encoded data removed]",
      "text/plain": [
       "<Figure size 504x360 with 1 Axes>"
      ]
     },
     "metadata": {},
     "output_type": "display_data"
    }
   ],
   "source": [
    "plt.figure(figsize=(7, 5))\n",
    "\n",
    "color = iter(zip(mcolors.TABLEAU_COLORS.keys(), \n",
    "                 ('cyan', 'yellow', 'cyan', 'pink', 'purple')))\n",
    "\n",
    "resultados_params = ('a', 'b', 'std_a', 'std_b', 'r2')\n",
    "resultados_dict = {\n",
    "    'disco':[],\n",
    "    'placas paralelas':[]\n",
    "}\n",
    "\n",
    "for (tipo, group) in ddp_dados:\n",
    "    for i, j in zip(split_slices[tipo][:-1], split_slices[tipo][1:]):\n",
    "        if j - i > 1:\n",
    "            phi, E = group[['ddp', 'E']].values[i:j].T\n",
    "            x, y = phi*1e-3 ,2*E*epsilon_0*1e9\n",
    "            sc, pc = next(color)\n",
    "            plt.scatter(x, y, c=sc, marker='o' if tipo == 'disco' else 'v', alpha=0.8)\n",
    "            \n",
    "            (a, b), pcov = curve_fit(linear, x, y)\n",
    "            std_a, std_b = np.sqrt(np.diag(pcov))\n",
    "            resultados_dict[tipo].append((a, b, std_a, std_b, r2_score(y, linear(x, a, b))))\n",
    "            \n",
    "            X = np.linspace(x.min(), x.max(), 15)\n",
    "            plt.plot(X, linear(X, a, b), c=pc)\n",
    "    \n",
    "plt.xlabel(r'$\\Phi$ (kV)')\n",
    "plt.ylabel(r'$\\sigma$ (nC/m$^2$)')\n",
    "#plt.legend()\n",
    "\n",
    "plt.show()"
   ]
  },
  {
   "cell_type": "markdown",
   "id": "60ba1c84-6c1e-4863-97e4-26f228720e2c",
   "metadata": {
    "tags": []
   },
   "source": [
    "## Resultados"
   ]
  },
  {
   "cell_type": "markdown",
   "id": "a34243f5-e741-4c22-a075-d36af409ff59",
   "metadata": {},
   "source": [
    "### Resultados gerais"
   ]
  },
  {
   "cell_type": "code",
   "execution_count": 8,
   "id": "62722e03-1525-4d78-9d0a-5ae04bc03989",
   "metadata": {},
   "outputs": [
    {
     "data": {
      "text/html": [
       "<div>\n",
       "<style scoped>\n",
       "    .dataframe tbody tr th:only-of-type {\n",
       "        vertical-align: middle;\n",
       "    }\n",
       "\n",
       "    .dataframe tbody tr th {\n",
       "        vertical-align: top;\n",
       "    }\n",
       "\n",
       "    .dataframe thead th {\n",
       "        text-align: right;\n",
       "    }\n",
       "</style>\n",
       "<table border=\"1\" class=\"dataframe\">\n",
       "  <thead>\n",
       "    <tr style=\"text-align: right;\">\n",
       "      <th></th>\n",
       "      <th></th>\n",
       "      <th>0</th>\n",
       "      <th>1</th>\n",
       "      <th>2</th>\n",
       "    </tr>\n",
       "  </thead>\n",
       "  <tbody>\n",
       "    <tr>\n",
       "      <th rowspan=\"5\" valign=\"top\">disco</th>\n",
       "      <th>a</th>\n",
       "      <td>2.757850</td>\n",
       "      <td>2.505528</td>\n",
       "      <td>NaN</td>\n",
       "    </tr>\n",
       "    <tr>\n",
       "      <th>b</th>\n",
       "      <td>-0.000822</td>\n",
       "      <td>0.024794</td>\n",
       "      <td>NaN</td>\n",
       "    </tr>\n",
       "    <tr>\n",
       "      <th>std_a</th>\n",
       "      <td>0.006153</td>\n",
       "      <td>0.001860</td>\n",
       "      <td>NaN</td>\n",
       "    </tr>\n",
       "    <tr>\n",
       "      <th>std_b</th>\n",
       "      <td>0.000631</td>\n",
       "      <td>0.000758</td>\n",
       "      <td>NaN</td>\n",
       "    </tr>\n",
       "    <tr>\n",
       "      <th>r2</th>\n",
       "      <td>0.999925</td>\n",
       "      <td>0.999979</td>\n",
       "      <td>NaN</td>\n",
       "    </tr>\n",
       "    <tr>\n",
       "      <th rowspan=\"5\" valign=\"top\">placas paralelas</th>\n",
       "      <th>a</th>\n",
       "      <td>1.650631</td>\n",
       "      <td>1.679037</td>\n",
       "      <td>1.514110</td>\n",
       "    </tr>\n",
       "    <tr>\n",
       "      <th>b</th>\n",
       "      <td>-0.001248</td>\n",
       "      <td>-0.005116</td>\n",
       "      <td>0.020879</td>\n",
       "    </tr>\n",
       "    <tr>\n",
       "      <th>std_a</th>\n",
       "      <td>0.007784</td>\n",
       "      <td>0.006678</td>\n",
       "      <td>0.003748</td>\n",
       "    </tr>\n",
       "    <tr>\n",
       "      <th>std_b</th>\n",
       "      <td>0.000753</td>\n",
       "      <td>0.001623</td>\n",
       "      <td>0.001715</td>\n",
       "    </tr>\n",
       "    <tr>\n",
       "      <th>r2</th>\n",
       "      <td>0.999689</td>\n",
       "      <td>0.999826</td>\n",
       "      <td>0.999835</td>\n",
       "    </tr>\n",
       "  </tbody>\n",
       "</table>\n",
       "</div>"
      ],
      "text/plain": [
       "                               0         1         2\n",
       "disco            a      2.757850  2.505528       NaN\n",
       "                 b     -0.000822  0.024794       NaN\n",
       "                 std_a  0.006153  0.001860       NaN\n",
       "                 std_b  0.000631  0.000758       NaN\n",
       "                 r2     0.999925  0.999979       NaN\n",
       "placas paralelas a      1.650631  1.679037  1.514110\n",
       "                 b     -0.001248 -0.005116  0.020879\n",
       "                 std_a  0.007784  0.006678  0.003748\n",
       "                 std_b  0.000753  0.001623  0.001715\n",
       "                 r2     0.999689  0.999826  0.999835"
      ]
     },
     "execution_count": 8,
     "metadata": {},
     "output_type": "execute_result"
    }
   ],
   "source": [
    "resultados = pd.DataFrame({\n",
    "    (outerkey, innerkey): np.concatenate((values, [np.nan]*(3 - len(values))))\n",
    "    for outerkey, arr in resultados_dict.items() \n",
    "    for innerkey, values in zip(resultados_params, np.transpose(arr))\n",
    "})\n",
    "resultados.T"
   ]
  },
  {
   "cell_type": "code",
   "execution_count": 9,
   "id": "8a95d1d5-c101-4632-9922-7c141f6c330d",
   "metadata": {},
   "outputs": [
    {
     "data": {
      "text/html": [
       "<div>\n",
       "<style scoped>\n",
       "    .dataframe tbody tr th:only-of-type {\n",
       "        vertical-align: middle;\n",
       "    }\n",
       "\n",
       "    .dataframe tbody tr th {\n",
       "        vertical-align: top;\n",
       "    }\n",
       "\n",
       "    .dataframe thead th {\n",
       "        text-align: right;\n",
       "    }\n",
       "</style>\n",
       "<table border=\"1\" class=\"dataframe\">\n",
       "  <thead>\n",
       "    <tr style=\"text-align: right;\">\n",
       "      <th></th>\n",
       "      <th></th>\n",
       "      <th>count</th>\n",
       "      <th>mean</th>\n",
       "      <th>std</th>\n",
       "      <th>min</th>\n",
       "      <th>25%</th>\n",
       "      <th>50%</th>\n",
       "      <th>75%</th>\n",
       "      <th>max</th>\n",
       "    </tr>\n",
       "  </thead>\n",
       "  <tbody>\n",
       "    <tr>\n",
       "      <th rowspan=\"5\" valign=\"top\">disco</th>\n",
       "      <th>a</th>\n",
       "      <td>2.0</td>\n",
       "      <td>2.631689</td>\n",
       "      <td>0.178419</td>\n",
       "      <td>2.505528</td>\n",
       "      <td>2.568608</td>\n",
       "      <td>2.631689</td>\n",
       "      <td>2.694769</td>\n",
       "      <td>2.757850</td>\n",
       "    </tr>\n",
       "    <tr>\n",
       "      <th>b</th>\n",
       "      <td>2.0</td>\n",
       "      <td>0.011986</td>\n",
       "      <td>0.018113</td>\n",
       "      <td>-0.000822</td>\n",
       "      <td>0.005582</td>\n",
       "      <td>0.011986</td>\n",
       "      <td>0.018390</td>\n",
       "      <td>0.024794</td>\n",
       "    </tr>\n",
       "    <tr>\n",
       "      <th>std_a</th>\n",
       "      <td>2.0</td>\n",
       "      <td>0.004007</td>\n",
       "      <td>0.003036</td>\n",
       "      <td>0.001860</td>\n",
       "      <td>0.002933</td>\n",
       "      <td>0.004007</td>\n",
       "      <td>0.005080</td>\n",
       "      <td>0.006153</td>\n",
       "    </tr>\n",
       "    <tr>\n",
       "      <th>std_b</th>\n",
       "      <td>2.0</td>\n",
       "      <td>0.000694</td>\n",
       "      <td>0.000090</td>\n",
       "      <td>0.000631</td>\n",
       "      <td>0.000663</td>\n",
       "      <td>0.000694</td>\n",
       "      <td>0.000726</td>\n",
       "      <td>0.000758</td>\n",
       "    </tr>\n",
       "    <tr>\n",
       "      <th>r2</th>\n",
       "      <td>2.0</td>\n",
       "      <td>0.999952</td>\n",
       "      <td>0.000038</td>\n",
       "      <td>0.999925</td>\n",
       "      <td>0.999939</td>\n",
       "      <td>0.999952</td>\n",
       "      <td>0.999965</td>\n",
       "      <td>0.999979</td>\n",
       "    </tr>\n",
       "    <tr>\n",
       "      <th rowspan=\"5\" valign=\"top\">placas paralelas</th>\n",
       "      <th>a</th>\n",
       "      <td>3.0</td>\n",
       "      <td>1.614592</td>\n",
       "      <td>0.088172</td>\n",
       "      <td>1.514110</td>\n",
       "      <td>1.582370</td>\n",
       "      <td>1.650631</td>\n",
       "      <td>1.664834</td>\n",
       "      <td>1.679037</td>\n",
       "    </tr>\n",
       "    <tr>\n",
       "      <th>b</th>\n",
       "      <td>3.0</td>\n",
       "      <td>0.004838</td>\n",
       "      <td>0.014026</td>\n",
       "      <td>-0.005116</td>\n",
       "      <td>-0.003182</td>\n",
       "      <td>-0.001248</td>\n",
       "      <td>0.009815</td>\n",
       "      <td>0.020879</td>\n",
       "    </tr>\n",
       "    <tr>\n",
       "      <th>std_a</th>\n",
       "      <td>3.0</td>\n",
       "      <td>0.006070</td>\n",
       "      <td>0.002086</td>\n",
       "      <td>0.003748</td>\n",
       "      <td>0.005213</td>\n",
       "      <td>0.006678</td>\n",
       "      <td>0.007231</td>\n",
       "      <td>0.007784</td>\n",
       "    </tr>\n",
       "    <tr>\n",
       "      <th>std_b</th>\n",
       "      <td>3.0</td>\n",
       "      <td>0.001364</td>\n",
       "      <td>0.000531</td>\n",
       "      <td>0.000753</td>\n",
       "      <td>0.001188</td>\n",
       "      <td>0.001623</td>\n",
       "      <td>0.001669</td>\n",
       "      <td>0.001715</td>\n",
       "    </tr>\n",
       "    <tr>\n",
       "      <th>r2</th>\n",
       "      <td>3.0</td>\n",
       "      <td>0.999783</td>\n",
       "      <td>0.000082</td>\n",
       "      <td>0.999689</td>\n",
       "      <td>0.999757</td>\n",
       "      <td>0.999826</td>\n",
       "      <td>0.999830</td>\n",
       "      <td>0.999835</td>\n",
       "    </tr>\n",
       "  </tbody>\n",
       "</table>\n",
       "</div>"
      ],
      "text/plain": [
       "                        count      mean       std       min       25%  \\\n",
       "disco            a        2.0  2.631689  0.178419  2.505528  2.568608   \n",
       "                 b        2.0  0.011986  0.018113 -0.000822  0.005582   \n",
       "                 std_a    2.0  0.004007  0.003036  0.001860  0.002933   \n",
       "                 std_b    2.0  0.000694  0.000090  0.000631  0.000663   \n",
       "                 r2       2.0  0.999952  0.000038  0.999925  0.999939   \n",
       "placas paralelas a        3.0  1.614592  0.088172  1.514110  1.582370   \n",
       "                 b        3.0  0.004838  0.014026 -0.005116 -0.003182   \n",
       "                 std_a    3.0  0.006070  0.002086  0.003748  0.005213   \n",
       "                 std_b    3.0  0.001364  0.000531  0.000753  0.001188   \n",
       "                 r2       3.0  0.999783  0.000082  0.999689  0.999757   \n",
       "\n",
       "                             50%       75%       max  \n",
       "disco            a      2.631689  2.694769  2.757850  \n",
       "                 b      0.011986  0.018390  0.024794  \n",
       "                 std_a  0.004007  0.005080  0.006153  \n",
       "                 std_b  0.000694  0.000726  0.000758  \n",
       "                 r2     0.999952  0.999965  0.999979  \n",
       "placas paralelas a      1.650631  1.664834  1.679037  \n",
       "                 b     -0.001248  0.009815  0.020879  \n",
       "                 std_a  0.006678  0.007231  0.007784  \n",
       "                 std_b  0.001623  0.001669  0.001715  \n",
       "                 r2     0.999826  0.999830  0.999835  "
      ]
     },
     "execution_count": 9,
     "metadata": {},
     "output_type": "execute_result"
    }
   ],
   "source": [
    "resultados.describe().T"
   ]
  },
  {
   "cell_type": "markdown",
   "id": "f9fac6b5-f491-45d7-8a0a-a497d33d8905",
   "metadata": {},
   "source": [
    "### Estimativa para os coeficientes de capacitância"
   ]
  },
  {
   "cell_type": "markdown",
   "id": "90f99014-4ab6-4a44-9200-be12019f1269",
   "metadata": {},
   "source": [
    "Obtendo um valor para o coeficiente angular $a$, para cada ajuste de curva $i$:\n",
    "$$a = \\overline{a_{R^2}} \\pm \\Delta a$$\n",
    "onde $\\overline{a_{R^2}}$ é a média dos valores de $a_i$ ponderada pelos respectivos coeficientes de derminação $R_i^2$, e $\\Delta a$ o desvio padrão das medidas.\n"
   ]
  },
  {
   "cell_type": "code",
   "execution_count": 10,
   "id": "3964f12b-377d-4665-9fe3-6f4557f23044",
   "metadata": {},
   "outputs": [
    {
     "data": {
      "text/latex": [
       "$\\displaystyle disco: 2.632 \\pm 0.178$"
      ],
      "text/plain": [
       "<IPython.core.display.Math object>"
      ]
     },
     "metadata": {},
     "output_type": "display_data"
    },
    {
     "data": {
      "text/latex": [
       "$\\displaystyle placas\\,paralelas: 1.615 \\pm 0.088$"
      ],
      "text/plain": [
       "<IPython.core.display.Math object>"
      ]
     },
     "metadata": {},
     "output_type": "display_data"
    }
   ],
   "source": [
    "ang_coefs = {}\n",
    "for nome in ('disco', 'placas paralelas'):\n",
    "    tipo = resultados[nome].dropna()\n",
    "    a = np.average(tipo.a, weights=tipo.r2)\n",
    "    da = tipo.a.std()\n",
    "    ang_coefs[nome] = (a, da)\n",
    "    display(Math(r'{}: {} \\pm {}'.format(\n",
    "        nome.replace(' ', '\\,'),\n",
    "        np.round(a, 3),\n",
    "        np.round(da, 3)\n",
    "    )))"
   ]
  }
 ],
 "metadata": {
  "kernelspec": {
   "display_name": "Python 3 (ipykernel)",
   "language": "python",
   "name": "python3"
  },
  "language_info": {
   "codemirror_mode": {
    "name": "ipython",
    "version": 3
   },
   "file_extension": ".py",
   "mimetype": "text/x-python",
   "name": "python",
   "nbconvert_exporter": "python",
   "pygments_lexer": "ipython3",
   "version": "3.10.5"
  },
  "toc-autonumbering": true
 },
 "nbformat": 4,
 "nbformat_minor": 5
}
